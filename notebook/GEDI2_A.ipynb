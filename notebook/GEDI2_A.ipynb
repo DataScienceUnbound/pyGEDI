{
 "cells": [
  {
   "cell_type": "markdown",
   "metadata": {},
   "source": [
    "# LEVEL 2 - GEDI Level 2A Geolocated Elevation and Height Metrics product\n",
    "\n",
    "https://lpdaac.usgs.gov/products/gedi02_av001/  \n",
    "The purpose of the GEDI Level 2A Geolocated Elevation and Height Metrics product (GEDI02_A) is to provide waveform interpretation and extracted products from each GEDI01_B received waveform, including ground elevation, canopy top height, and relative height (RH) metrics. The methodology for generating the GEDI02_A product datasets is adapted from the Land, Vegetation, and Ice Sensor (LVIS) algorithm. The GEDI01_B product is provided in HDF5 format and has a spatial resolution (average footprint) of 25 meters."
   ]
  },
  {
   "cell_type": "code",
   "execution_count": 1,
   "metadata": {
    "scrolled": false
   },
   "outputs": [],
   "source": [
    "from pyGEDI import *"
   ]
  },
  {
   "cell_type": "markdown",
   "metadata": {},
   "source": [
    "Select the file of Product GEDI0A_B with the date of interest. This will be read as an h5 file which will be used to extrapolate ground elevation, canopy top height, and relative height (RH) metrics.\n"
   ]
  },
  {
   "cell_type": "code",
   "execution_count": 2,
   "metadata": {
    "scrolled": false
   },
   "outputs": [],
   "source": [
    "fileh5_2A='data/GEDI02_A_2019108080338_O01964_T05337_02_001_01_sub.h5'\n",
    "h5_2A=getH5(fileh5_2A)"
   ]
  },
  {
   "cell_type": "markdown",
   "metadata": {},
   "source": [
    "Define the coordinates of your specific area of interest. The next line will exhibit an example using coordinates in Brazil."
   ]
  },
  {
   "cell_type": "code",
   "execution_count": 3,
   "metadata": {
    "scrolled": false
   },
   "outputs": [],
   "source": [
    "ul_lat=-13.76913\n",
    "ul_lon=-44.0654\n",
    "lr_lat=-13.67646\n",
    "lr_lon=-44.17246\n",
    "\n",
    "bbox=[ul_lat,ul_lon,lr_lat,lr_lon]"
   ]
  },
  {
   "cell_type": "markdown",
   "metadata": {},
   "source": [
    "The GEDI02_A data product contains 156 layers for each of the eight beams, including ground elevation, canopy top height, relative return energy metrics (describing canopy vertical structure, for example), and many other interpreted products from the return waveforms. Additional information for the layers can be found in the GEDI Level 2A Dictionary. https://lpdaac.usgs.gov/documents/586/gedi_l2a_dictionary_P001_v1.html\n",
    "\n",
    "To visualize the different layers"
   ]
  },
  {
   "cell_type": "code",
   "execution_count": 4,
   "metadata": {
    "scrolled": false
   },
   "outputs": [
    {
     "data": {
      "text/plain": [
       "{'data/GEDI02_A_2019108080338_O01964_T05337_02_001_01_sub.h5': ['ancillary/l2a_alg_count',\n",
       "  'beam',\n",
       "  'channel',\n",
       "  'degrade_flag',\n",
       "  'delta_time',\n",
       "  'digital_elevation_model',\n",
       "  'elev_highestreturn',\n",
       "  'elev_lowestmode',\n",
       "  'elevation_bias_flag',\n",
       "  'elevation_bin0_error',\n",
       "  'energy_total',\n",
       "  'geolocation/elev_highestreturn_a1',\n",
       "  'geolocation/elev_highestreturn_a2',\n",
       "  'geolocation/elev_highestreturn_a3',\n",
       "  'geolocation/elev_highestreturn_a4',\n",
       "  'geolocation/elev_highestreturn_a5',\n",
       "  'geolocation/elev_highestreturn_a6',\n",
       "  'geolocation/elev_lowestmode_a1',\n",
       "  'geolocation/elev_lowestmode_a2',\n",
       "  'geolocation/elev_lowestmode_a3',\n",
       "  'geolocation/elev_lowestmode_a4',\n",
       "  'geolocation/elev_lowestmode_a5',\n",
       "  'geolocation/elev_lowestmode_a6',\n",
       "  'geolocation/elev_lowestreturn_a1',\n",
       "  'geolocation/elev_lowestreturn_a2',\n",
       "  'geolocation/elev_lowestreturn_a3',\n",
       "  'geolocation/elev_lowestreturn_a4',\n",
       "  'geolocation/elev_lowestreturn_a5',\n",
       "  'geolocation/elev_lowestreturn_a6',\n",
       "  'geolocation/elevation_1gfit',\n",
       "  'geolocation/elevs_allmodes_a1',\n",
       "  'geolocation/elevs_allmodes_a2',\n",
       "  'geolocation/elevs_allmodes_a3',\n",
       "  'geolocation/elevs_allmodes_a4',\n",
       "  'geolocation/elevs_allmodes_a5',\n",
       "  'geolocation/elevs_allmodes_a6',\n",
       "  'geolocation/energy_lowestmode_a1',\n",
       "  'geolocation/energy_lowestmode_a2',\n",
       "  'geolocation/energy_lowestmode_a3',\n",
       "  'geolocation/energy_lowestmode_a4',\n",
       "  'geolocation/energy_lowestmode_a5',\n",
       "  'geolocation/energy_lowestmode_a6',\n",
       "  'geolocation/lat_highestreturn_a1',\n",
       "  'geolocation/lat_highestreturn_a2',\n",
       "  'geolocation/lat_highestreturn_a3',\n",
       "  'geolocation/lat_highestreturn_a4',\n",
       "  'geolocation/lat_highestreturn_a5',\n",
       "  'geolocation/lat_highestreturn_a6',\n",
       "  'geolocation/lat_lowestmode_a1',\n",
       "  'geolocation/lat_lowestmode_a2',\n",
       "  'geolocation/lat_lowestmode_a3',\n",
       "  'geolocation/lat_lowestmode_a4',\n",
       "  'geolocation/lat_lowestmode_a5',\n",
       "  'geolocation/lat_lowestmode_a6',\n",
       "  'geolocation/lat_lowestreturn_a1',\n",
       "  'geolocation/lat_lowestreturn_a2',\n",
       "  'geolocation/lat_lowestreturn_a3',\n",
       "  'geolocation/lat_lowestreturn_a4',\n",
       "  'geolocation/lat_lowestreturn_a5',\n",
       "  'geolocation/lat_lowestreturn_a6',\n",
       "  'geolocation/latitude_1gfit',\n",
       "  'geolocation/lats_allmodes_a1',\n",
       "  'geolocation/lats_allmodes_a2',\n",
       "  'geolocation/lats_allmodes_a3',\n",
       "  'geolocation/lats_allmodes_a4',\n",
       "  'geolocation/lats_allmodes_a5',\n",
       "  'geolocation/lats_allmodes_a6',\n",
       "  'geolocation/lon_highestreturn_a1',\n",
       "  'geolocation/lon_highestreturn_a2',\n",
       "  'geolocation/lon_highestreturn_a3',\n",
       "  'geolocation/lon_highestreturn_a4',\n",
       "  'geolocation/lon_highestreturn_a5',\n",
       "  'geolocation/lon_highestreturn_a6',\n",
       "  'geolocation/lon_lowestmode_a1',\n",
       "  'geolocation/lon_lowestmode_a2',\n",
       "  'geolocation/lon_lowestmode_a3',\n",
       "  'geolocation/lon_lowestmode_a4',\n",
       "  'geolocation/lon_lowestmode_a5',\n",
       "  'geolocation/lon_lowestmode_a6',\n",
       "  'geolocation/lon_lowestreturn_a1',\n",
       "  'geolocation/lon_lowestreturn_a2',\n",
       "  'geolocation/lon_lowestreturn_a3',\n",
       "  'geolocation/lon_lowestreturn_a4',\n",
       "  'geolocation/lon_lowestreturn_a5',\n",
       "  'geolocation/lon_lowestreturn_a6',\n",
       "  'geolocation/longitude_1gfit',\n",
       "  'geolocation/lons_allmodes_a1',\n",
       "  'geolocation/lons_allmodes_a2',\n",
       "  'geolocation/lons_allmodes_a3',\n",
       "  'geolocation/lons_allmodes_a4',\n",
       "  'geolocation/lons_allmodes_a5',\n",
       "  'geolocation/lons_allmodes_a6',\n",
       "  'geolocation/num_detectedmodes_a1',\n",
       "  'geolocation/num_detectedmodes_a2',\n",
       "  'geolocation/num_detectedmodes_a3',\n",
       "  'geolocation/num_detectedmodes_a4',\n",
       "  'geolocation/num_detectedmodes_a5',\n",
       "  'geolocation/num_detectedmodes_a6',\n",
       "  'geolocation/quality_flag_a1',\n",
       "  'geolocation/quality_flag_a2',\n",
       "  'geolocation/quality_flag_a3',\n",
       "  'geolocation/quality_flag_a4',\n",
       "  'geolocation/quality_flag_a5',\n",
       "  'geolocation/quality_flag_a6',\n",
       "  'geolocation/rh_a1',\n",
       "  'geolocation/rh_a2',\n",
       "  'geolocation/rh_a3',\n",
       "  'geolocation/rh_a4',\n",
       "  'geolocation/rh_a5',\n",
       "  'geolocation/rh_a6',\n",
       "  'geolocation/sensitivity_a1',\n",
       "  'geolocation/sensitivity_a2',\n",
       "  'geolocation/sensitivity_a3',\n",
       "  'geolocation/sensitivity_a4',\n",
       "  'geolocation/sensitivity_a5',\n",
       "  'geolocation/sensitivity_a6',\n",
       "  'geolocation/shot_number',\n",
       "  'geolocation/stale_return_flag',\n",
       "  'land_cover_data/landsat_treecover',\n",
       "  'land_cover_data/modis_nonvegetated',\n",
       "  'land_cover_data/modis_nonvegetated_sd',\n",
       "  'land_cover_data/modis_treecover',\n",
       "  'land_cover_data/modis_treecover_sd',\n",
       "  'lat_highestreturn',\n",
       "  'lat_lowestmode',\n",
       "  'latitude_bin0_error',\n",
       "  'lon_highestreturn',\n",
       "  'lon_lowestmode',\n",
       "  'longitude_bin0_error',\n",
       "  'master_frac',\n",
       "  'master_int',\n",
       "  'mean_sea_surface',\n",
       "  'num_detectedmodes',\n",
       "  'quality_flag',\n",
       "  'rh',\n",
       "  'rx_1gaussfit/ancillary/mpfit_max_func_evals',\n",
       "  'rx_1gaussfit/ancillary/mpfit_maxiters',\n",
       "  'rx_1gaussfit/ancillary/mpfit_tolerance',\n",
       "  'rx_1gaussfit/ancillary/rx_constraint_gamplitude_lower',\n",
       "  'rx_1gaussfit/ancillary/rx_constraint_gamplitude_upper',\n",
       "  'rx_1gaussfit/ancillary/rx_constraint_gloc_lower',\n",
       "  'rx_1gaussfit/ancillary/rx_constraint_gloc_upper',\n",
       "  'rx_1gaussfit/ancillary/rx_constraint_gwidth_lower',\n",
       "  'rx_1gaussfit/ancillary/rx_constraint_gwidth_upper',\n",
       "  'rx_1gaussfit/ancillary/rx_estimate_bias',\n",
       "  'rx_1gaussfit/ancillary/rx_mean_noise_level',\n",
       "  'rx_1gaussfit/ancillary/rx_smoothwidth',\n",
       "  'rx_1gaussfit/rx_gamplitude',\n",
       "  'rx_1gaussfit/rx_gamplitude_error',\n",
       "  'rx_1gaussfit/rx_gbias',\n",
       "  'rx_1gaussfit/rx_gbias_error',\n",
       "  'rx_1gaussfit/rx_gchisq',\n",
       "  'rx_1gaussfit/rx_gflag',\n",
       "  'rx_1gaussfit/rx_giters',\n",
       "  'rx_1gaussfit/rx_gloc',\n",
       "  'rx_1gaussfit/rx_gloc_error',\n",
       "  'rx_1gaussfit/rx_gwidth',\n",
       "  'rx_1gaussfit/rx_gwidth_error',\n",
       "  'rx_assess/ancillary/rx_ampbounds_ll',\n",
       "  'rx_assess/ancillary/rx_ampbounds_ul',\n",
       "  'rx_assess/ancillary/rx_clipamp',\n",
       "  'rx_assess/ancillary/rx_pulsethresh',\n",
       "  'rx_assess/ancillary/rx_ringthresh',\n",
       "  'rx_assess/ancillary/smoothing_width_locs',\n",
       "  'rx_assess/mean',\n",
       "  'rx_assess/mean_64kadjusted',\n",
       "  'rx_assess/ocean_calibration_shot_flag',\n",
       "  'rx_assess/quality_flag',\n",
       "  'rx_assess/rx_assess_flag',\n",
       "  'rx_assess/rx_clipbin0',\n",
       "  'rx_assess/rx_clipbin_count',\n",
       "  'rx_assess/rx_energy',\n",
       "  'rx_assess/rx_maxamp',\n",
       "  'rx_assess/rx_maxpeakloc',\n",
       "  'rx_assess/sd_corrected',\n",
       "  'rx_assess/shot_number',\n",
       "  'rx_processing_a1/ancillary/amp_thresh',\n",
       "  'rx_processing_a1/ancillary/ampval_limit2',\n",
       "  'rx_processing_a1/ancillary/ampval_limit3',\n",
       "  'rx_processing_a1/ancillary/botlocdist_limit1',\n",
       "  'rx_processing_a1/ancillary/botlocdist_limit2',\n",
       "  'rx_processing_a1/ancillary/botlocdist_limit3',\n",
       "  'rx_processing_a1/ancillary/cumulative_energy_minimum',\n",
       "  'rx_processing_a1/ancillary/cumulative_energy_thresh',\n",
       "  'rx_processing_a1/ancillary/enable_select_mode',\n",
       "  'rx_processing_a1/ancillary/energy_thresh',\n",
       "  'rx_processing_a1/ancillary/preprocessor_threshold',\n",
       "  'rx_processing_a1/ancillary/pulse_sep_thresh',\n",
       "  'rx_processing_a1/ancillary/rx_back_threshold',\n",
       "  'rx_processing_a1/ancillary/rx_front_threshold',\n",
       "  'rx_processing_a1/ancillary/rx_max_mode_count',\n",
       "  'rx_processing_a1/ancillary/rx_searchsize',\n",
       "  'rx_processing_a1/ancillary/rx_sentinel_location',\n",
       "  'rx_processing_a1/ancillary/rx_smoothing_width_locs',\n",
       "  'rx_processing_a1/ancillary/rx_smoothing_width_zcross',\n",
       "  'rx_processing_a1/ancillary/rx_subbin_resolution',\n",
       "  'rx_processing_a1/ancillary/rx_use_fixed_thresholds',\n",
       "  'rx_processing_a1/back_threshold',\n",
       "  'rx_processing_a1/botloc',\n",
       "  'rx_processing_a1/botloc_amp',\n",
       "  'rx_processing_a1/energy_sm',\n",
       "  'rx_processing_a1/front_threshold',\n",
       "  'rx_processing_a1/lastmodeenergy',\n",
       "  'rx_processing_a1/mean',\n",
       "  'rx_processing_a1/mean_sm',\n",
       "  'rx_processing_a1/min_detection_energy',\n",
       "  'rx_processing_a1/min_detection_threshold',\n",
       "  'rx_processing_a1/peak',\n",
       "  'rx_processing_a1/pk_sm',\n",
       "  'rx_processing_a1/rx_algrunflag',\n",
       "  'rx_processing_a1/rx_cumulative',\n",
       "  'rx_processing_a1/rx_iwaveamps',\n",
       "  'rx_processing_a1/rx_modeamps',\n",
       "  'rx_processing_a1/rx_modeenergytobotloc',\n",
       "  'rx_processing_a1/rx_modelocalenergy',\n",
       "  'rx_processing_a1/rx_modelocalenergyabovemean',\n",
       "  'rx_processing_a1/rx_modelocalslope',\n",
       "  'rx_processing_a1/rx_modelocs',\n",
       "  'rx_processing_a1/rx_modewidths',\n",
       "  'rx_processing_a1/rx_nummodes',\n",
       "  'rx_processing_a1/sd_sm',\n",
       "  'rx_processing_a1/search_end',\n",
       "  'rx_processing_a1/search_start',\n",
       "  'rx_processing_a1/selected_mode',\n",
       "  'rx_processing_a1/selected_mode_flag',\n",
       "  'rx_processing_a1/shot_number',\n",
       "  'rx_processing_a1/smoothwidth',\n",
       "  'rx_processing_a1/smoothwidth_zcross',\n",
       "  'rx_processing_a1/stddev',\n",
       "  'rx_processing_a1/toploc',\n",
       "  'rx_processing_a1/toploc_miss',\n",
       "  'rx_processing_a1/zcross',\n",
       "  'rx_processing_a1/zcross0',\n",
       "  'rx_processing_a1/zcross_amp',\n",
       "  'rx_processing_a1/zcross_localenergy',\n",
       "  'rx_processing_a2/ancillary/amp_thresh',\n",
       "  'rx_processing_a2/ancillary/ampval_limit2',\n",
       "  'rx_processing_a2/ancillary/ampval_limit3',\n",
       "  'rx_processing_a2/ancillary/botlocdist_limit1',\n",
       "  'rx_processing_a2/ancillary/botlocdist_limit2',\n",
       "  'rx_processing_a2/ancillary/botlocdist_limit3',\n",
       "  'rx_processing_a2/ancillary/cumulative_energy_minimum',\n",
       "  'rx_processing_a2/ancillary/cumulative_energy_thresh',\n",
       "  'rx_processing_a2/ancillary/enable_select_mode',\n",
       "  'rx_processing_a2/ancillary/energy_thresh',\n",
       "  'rx_processing_a2/ancillary/preprocessor_threshold',\n",
       "  'rx_processing_a2/ancillary/pulse_sep_thresh',\n",
       "  'rx_processing_a2/ancillary/rx_back_threshold',\n",
       "  'rx_processing_a2/ancillary/rx_front_threshold',\n",
       "  'rx_processing_a2/ancillary/rx_max_mode_count',\n",
       "  'rx_processing_a2/ancillary/rx_searchsize',\n",
       "  'rx_processing_a2/ancillary/rx_sentinel_location',\n",
       "  'rx_processing_a2/ancillary/rx_smoothing_width_locs',\n",
       "  'rx_processing_a2/ancillary/rx_smoothing_width_zcross',\n",
       "  'rx_processing_a2/ancillary/rx_subbin_resolution',\n",
       "  'rx_processing_a2/ancillary/rx_use_fixed_thresholds',\n",
       "  'rx_processing_a2/back_threshold',\n",
       "  'rx_processing_a2/botloc',\n",
       "  'rx_processing_a2/botloc_amp',\n",
       "  'rx_processing_a2/energy_sm',\n",
       "  'rx_processing_a2/front_threshold',\n",
       "  'rx_processing_a2/lastmodeenergy',\n",
       "  'rx_processing_a2/mean',\n",
       "  'rx_processing_a2/mean_sm',\n",
       "  'rx_processing_a2/min_detection_energy',\n",
       "  'rx_processing_a2/min_detection_threshold',\n",
       "  'rx_processing_a2/peak',\n",
       "  'rx_processing_a2/pk_sm',\n",
       "  'rx_processing_a2/rx_algrunflag',\n",
       "  'rx_processing_a2/rx_cumulative',\n",
       "  'rx_processing_a2/rx_iwaveamps',\n",
       "  'rx_processing_a2/rx_modeamps',\n",
       "  'rx_processing_a2/rx_modeenergytobotloc',\n",
       "  'rx_processing_a2/rx_modelocalenergy',\n",
       "  'rx_processing_a2/rx_modelocalenergyabovemean',\n",
       "  'rx_processing_a2/rx_modelocalslope',\n",
       "  'rx_processing_a2/rx_modelocs',\n",
       "  'rx_processing_a2/rx_modewidths',\n",
       "  'rx_processing_a2/rx_nummodes',\n",
       "  'rx_processing_a2/sd_sm',\n",
       "  'rx_processing_a2/search_end',\n",
       "  'rx_processing_a2/search_start',\n",
       "  'rx_processing_a2/selected_mode',\n",
       "  'rx_processing_a2/selected_mode_flag',\n",
       "  'rx_processing_a2/shot_number',\n",
       "  'rx_processing_a2/smoothwidth',\n",
       "  'rx_processing_a2/smoothwidth_zcross',\n",
       "  'rx_processing_a2/stddev',\n",
       "  'rx_processing_a2/toploc',\n",
       "  'rx_processing_a2/toploc_miss',\n",
       "  'rx_processing_a2/zcross',\n",
       "  'rx_processing_a2/zcross0',\n",
       "  'rx_processing_a2/zcross_amp',\n",
       "  'rx_processing_a2/zcross_localenergy',\n",
       "  'rx_processing_a3/ancillary/amp_thresh',\n",
       "  'rx_processing_a3/ancillary/ampval_limit2',\n",
       "  'rx_processing_a3/ancillary/ampval_limit3',\n",
       "  'rx_processing_a3/ancillary/botlocdist_limit1',\n",
       "  'rx_processing_a3/ancillary/botlocdist_limit2',\n",
       "  'rx_processing_a3/ancillary/botlocdist_limit3',\n",
       "  'rx_processing_a3/ancillary/cumulative_energy_minimum',\n",
       "  'rx_processing_a3/ancillary/cumulative_energy_thresh',\n",
       "  'rx_processing_a3/ancillary/enable_select_mode',\n",
       "  'rx_processing_a3/ancillary/energy_thresh',\n",
       "  'rx_processing_a3/ancillary/preprocessor_threshold',\n",
       "  'rx_processing_a3/ancillary/pulse_sep_thresh',\n",
       "  'rx_processing_a3/ancillary/rx_back_threshold',\n",
       "  'rx_processing_a3/ancillary/rx_front_threshold',\n",
       "  'rx_processing_a3/ancillary/rx_max_mode_count',\n",
       "  'rx_processing_a3/ancillary/rx_searchsize',\n",
       "  'rx_processing_a3/ancillary/rx_sentinel_location',\n",
       "  'rx_processing_a3/ancillary/rx_smoothing_width_locs',\n",
       "  'rx_processing_a3/ancillary/rx_smoothing_width_zcross',\n",
       "  'rx_processing_a3/ancillary/rx_subbin_resolution',\n",
       "  'rx_processing_a3/ancillary/rx_use_fixed_thresholds',\n",
       "  'rx_processing_a3/back_threshold',\n",
       "  'rx_processing_a3/botloc',\n",
       "  'rx_processing_a3/botloc_amp',\n",
       "  'rx_processing_a3/energy_sm',\n",
       "  'rx_processing_a3/front_threshold',\n",
       "  'rx_processing_a3/lastmodeenergy',\n",
       "  'rx_processing_a3/mean',\n",
       "  'rx_processing_a3/mean_sm',\n",
       "  'rx_processing_a3/min_detection_energy',\n",
       "  'rx_processing_a3/min_detection_threshold',\n",
       "  'rx_processing_a3/peak',\n",
       "  'rx_processing_a3/pk_sm',\n",
       "  'rx_processing_a3/rx_algrunflag',\n",
       "  'rx_processing_a3/rx_cumulative',\n",
       "  'rx_processing_a3/rx_iwaveamps',\n",
       "  'rx_processing_a3/rx_modeamps',\n",
       "  'rx_processing_a3/rx_modeenergytobotloc',\n",
       "  'rx_processing_a3/rx_modelocalenergy',\n",
       "  'rx_processing_a3/rx_modelocalenergyabovemean',\n",
       "  'rx_processing_a3/rx_modelocalslope',\n",
       "  'rx_processing_a3/rx_modelocs',\n",
       "  'rx_processing_a3/rx_modewidths',\n",
       "  'rx_processing_a3/rx_nummodes',\n",
       "  'rx_processing_a3/sd_sm',\n",
       "  'rx_processing_a3/search_end',\n",
       "  'rx_processing_a3/search_start',\n",
       "  'rx_processing_a3/selected_mode',\n",
       "  'rx_processing_a3/selected_mode_flag',\n",
       "  'rx_processing_a3/shot_number',\n",
       "  'rx_processing_a3/smoothwidth',\n",
       "  'rx_processing_a3/smoothwidth_zcross',\n",
       "  'rx_processing_a3/stddev',\n",
       "  'rx_processing_a3/toploc',\n",
       "  'rx_processing_a3/toploc_miss',\n",
       "  'rx_processing_a3/zcross',\n",
       "  'rx_processing_a3/zcross0',\n",
       "  'rx_processing_a3/zcross_amp',\n",
       "  'rx_processing_a3/zcross_localenergy',\n",
       "  'rx_processing_a4/ancillary/amp_thresh',\n",
       "  'rx_processing_a4/ancillary/ampval_limit2',\n",
       "  'rx_processing_a4/ancillary/ampval_limit3',\n",
       "  'rx_processing_a4/ancillary/botlocdist_limit1',\n",
       "  'rx_processing_a4/ancillary/botlocdist_limit2',\n",
       "  'rx_processing_a4/ancillary/botlocdist_limit3',\n",
       "  'rx_processing_a4/ancillary/cumulative_energy_minimum',\n",
       "  'rx_processing_a4/ancillary/cumulative_energy_thresh',\n",
       "  'rx_processing_a4/ancillary/enable_select_mode',\n",
       "  'rx_processing_a4/ancillary/energy_thresh',\n",
       "  'rx_processing_a4/ancillary/preprocessor_threshold',\n",
       "  'rx_processing_a4/ancillary/pulse_sep_thresh',\n",
       "  'rx_processing_a4/ancillary/rx_back_threshold',\n",
       "  'rx_processing_a4/ancillary/rx_front_threshold',\n",
       "  'rx_processing_a4/ancillary/rx_max_mode_count',\n",
       "  'rx_processing_a4/ancillary/rx_searchsize',\n",
       "  'rx_processing_a4/ancillary/rx_sentinel_location',\n",
       "  'rx_processing_a4/ancillary/rx_smoothing_width_locs',\n",
       "  'rx_processing_a4/ancillary/rx_smoothing_width_zcross',\n",
       "  'rx_processing_a4/ancillary/rx_subbin_resolution',\n",
       "  'rx_processing_a4/ancillary/rx_use_fixed_thresholds',\n",
       "  'rx_processing_a4/back_threshold',\n",
       "  'rx_processing_a4/botloc',\n",
       "  'rx_processing_a4/botloc_amp',\n",
       "  'rx_processing_a4/energy_sm',\n",
       "  'rx_processing_a4/front_threshold',\n",
       "  'rx_processing_a4/lastmodeenergy',\n",
       "  'rx_processing_a4/mean',\n",
       "  'rx_processing_a4/mean_sm',\n",
       "  'rx_processing_a4/min_detection_energy',\n",
       "  'rx_processing_a4/min_detection_threshold',\n",
       "  'rx_processing_a4/peak',\n",
       "  'rx_processing_a4/pk_sm',\n",
       "  'rx_processing_a4/rx_algrunflag',\n",
       "  'rx_processing_a4/rx_cumulative',\n",
       "  'rx_processing_a4/rx_iwaveamps',\n",
       "  'rx_processing_a4/rx_modeamps',\n",
       "  'rx_processing_a4/rx_modeenergytobotloc',\n",
       "  'rx_processing_a4/rx_modelocalenergy',\n",
       "  'rx_processing_a4/rx_modelocalenergyabovemean',\n",
       "  'rx_processing_a4/rx_modelocalslope',\n",
       "  'rx_processing_a4/rx_modelocs',\n",
       "  'rx_processing_a4/rx_modewidths',\n",
       "  'rx_processing_a4/rx_nummodes',\n",
       "  'rx_processing_a4/sd_sm',\n",
       "  'rx_processing_a4/search_end',\n",
       "  'rx_processing_a4/search_start',\n",
       "  'rx_processing_a4/selected_mode',\n",
       "  'rx_processing_a4/selected_mode_flag',\n",
       "  'rx_processing_a4/shot_number',\n",
       "  'rx_processing_a4/smoothwidth',\n",
       "  'rx_processing_a4/smoothwidth_zcross',\n",
       "  'rx_processing_a4/stddev',\n",
       "  'rx_processing_a4/toploc',\n",
       "  'rx_processing_a4/toploc_miss',\n",
       "  'rx_processing_a4/zcross',\n",
       "  'rx_processing_a4/zcross0',\n",
       "  'rx_processing_a4/zcross_amp',\n",
       "  'rx_processing_a4/zcross_localenergy',\n",
       "  'rx_processing_a5/ancillary/amp_thresh',\n",
       "  'rx_processing_a5/ancillary/ampval_limit2',\n",
       "  'rx_processing_a5/ancillary/ampval_limit3',\n",
       "  'rx_processing_a5/ancillary/botlocdist_limit1',\n",
       "  'rx_processing_a5/ancillary/botlocdist_limit2',\n",
       "  'rx_processing_a5/ancillary/botlocdist_limit3',\n",
       "  'rx_processing_a5/ancillary/cumulative_energy_minimum',\n",
       "  'rx_processing_a5/ancillary/cumulative_energy_thresh',\n",
       "  'rx_processing_a5/ancillary/enable_select_mode',\n",
       "  'rx_processing_a5/ancillary/energy_thresh',\n",
       "  'rx_processing_a5/ancillary/preprocessor_threshold',\n",
       "  'rx_processing_a5/ancillary/pulse_sep_thresh',\n",
       "  'rx_processing_a5/ancillary/rx_back_threshold',\n",
       "  'rx_processing_a5/ancillary/rx_front_threshold',\n",
       "  'rx_processing_a5/ancillary/rx_max_mode_count',\n",
       "  'rx_processing_a5/ancillary/rx_searchsize',\n",
       "  'rx_processing_a5/ancillary/rx_sentinel_location',\n",
       "  'rx_processing_a5/ancillary/rx_smoothing_width_locs',\n",
       "  'rx_processing_a5/ancillary/rx_smoothing_width_zcross',\n",
       "  'rx_processing_a5/ancillary/rx_subbin_resolution',\n",
       "  'rx_processing_a5/ancillary/rx_use_fixed_thresholds',\n",
       "  'rx_processing_a5/back_threshold',\n",
       "  'rx_processing_a5/botloc',\n",
       "  'rx_processing_a5/botloc_amp',\n",
       "  'rx_processing_a5/energy_sm',\n",
       "  'rx_processing_a5/front_threshold',\n",
       "  'rx_processing_a5/lastmodeenergy',\n",
       "  'rx_processing_a5/mean',\n",
       "  'rx_processing_a5/mean_sm',\n",
       "  'rx_processing_a5/min_detection_energy',\n",
       "  'rx_processing_a5/min_detection_threshold',\n",
       "  'rx_processing_a5/peak',\n",
       "  'rx_processing_a5/pk_sm',\n",
       "  'rx_processing_a5/rx_algrunflag',\n",
       "  'rx_processing_a5/rx_cumulative',\n",
       "  'rx_processing_a5/rx_iwaveamps',\n",
       "  'rx_processing_a5/rx_modeamps',\n",
       "  'rx_processing_a5/rx_modeenergytobotloc',\n",
       "  'rx_processing_a5/rx_modelocalenergy',\n",
       "  'rx_processing_a5/rx_modelocalenergyabovemean',\n",
       "  'rx_processing_a5/rx_modelocalslope',\n",
       "  'rx_processing_a5/rx_modelocs',\n",
       "  'rx_processing_a5/rx_modewidths',\n",
       "  'rx_processing_a5/rx_nummodes',\n",
       "  'rx_processing_a5/sd_sm',\n",
       "  'rx_processing_a5/search_end',\n",
       "  'rx_processing_a5/search_start',\n",
       "  'rx_processing_a5/selected_mode',\n",
       "  'rx_processing_a5/selected_mode_flag',\n",
       "  'rx_processing_a5/shot_number',\n",
       "  'rx_processing_a5/smoothwidth',\n",
       "  'rx_processing_a5/smoothwidth_zcross',\n",
       "  'rx_processing_a5/stddev',\n",
       "  'rx_processing_a5/toploc',\n",
       "  'rx_processing_a5/toploc_miss',\n",
       "  'rx_processing_a5/zcross',\n",
       "  'rx_processing_a5/zcross0',\n",
       "  'rx_processing_a5/zcross_amp',\n",
       "  'rx_processing_a5/zcross_localenergy',\n",
       "  'rx_processing_a6/ancillary/amp_thresh',\n",
       "  'rx_processing_a6/ancillary/ampval_limit2',\n",
       "  'rx_processing_a6/ancillary/ampval_limit3',\n",
       "  'rx_processing_a6/ancillary/botlocdist_limit1',\n",
       "  'rx_processing_a6/ancillary/botlocdist_limit2',\n",
       "  'rx_processing_a6/ancillary/botlocdist_limit3',\n",
       "  'rx_processing_a6/ancillary/cumulative_energy_minimum',\n",
       "  'rx_processing_a6/ancillary/cumulative_energy_thresh',\n",
       "  'rx_processing_a6/ancillary/enable_select_mode',\n",
       "  'rx_processing_a6/ancillary/energy_thresh',\n",
       "  'rx_processing_a6/ancillary/preprocessor_threshold',\n",
       "  'rx_processing_a6/ancillary/pulse_sep_thresh',\n",
       "  'rx_processing_a6/ancillary/rx_back_threshold',\n",
       "  'rx_processing_a6/ancillary/rx_front_threshold',\n",
       "  'rx_processing_a6/ancillary/rx_max_mode_count',\n",
       "  'rx_processing_a6/ancillary/rx_searchsize',\n",
       "  'rx_processing_a6/ancillary/rx_sentinel_location',\n",
       "  'rx_processing_a6/ancillary/rx_smoothing_width_locs',\n",
       "  'rx_processing_a6/ancillary/rx_smoothing_width_zcross',\n",
       "  'rx_processing_a6/ancillary/rx_subbin_resolution',\n",
       "  'rx_processing_a6/ancillary/rx_use_fixed_thresholds',\n",
       "  'rx_processing_a6/back_threshold',\n",
       "  'rx_processing_a6/botloc',\n",
       "  'rx_processing_a6/botloc_amp',\n",
       "  'rx_processing_a6/energy_sm',\n",
       "  'rx_processing_a6/front_threshold',\n",
       "  'rx_processing_a6/lastmodeenergy',\n",
       "  'rx_processing_a6/mean',\n",
       "  'rx_processing_a6/mean_sm',\n",
       "  'rx_processing_a6/min_detection_energy',\n",
       "  'rx_processing_a6/min_detection_threshold',\n",
       "  'rx_processing_a6/peak',\n",
       "  'rx_processing_a6/pk_sm',\n",
       "  'rx_processing_a6/rx_algrunflag',\n",
       "  'rx_processing_a6/rx_cumulative',\n",
       "  'rx_processing_a6/rx_iwaveamps',\n",
       "  'rx_processing_a6/rx_modeamps',\n",
       "  'rx_processing_a6/rx_modeenergytobotloc',\n",
       "  'rx_processing_a6/rx_modelocalenergy',\n",
       "  'rx_processing_a6/rx_modelocalenergyabovemean',\n",
       "  'rx_processing_a6/rx_modelocalslope',\n",
       "  'rx_processing_a6/rx_modelocs',\n",
       "  'rx_processing_a6/rx_modewidths',\n",
       "  'rx_processing_a6/rx_nummodes',\n",
       "  'rx_processing_a6/sd_sm',\n",
       "  'rx_processing_a6/search_end',\n",
       "  'rx_processing_a6/search_start',\n",
       "  'rx_processing_a6/selected_mode',\n",
       "  'rx_processing_a6/selected_mode_flag',\n",
       "  'rx_processing_a6/shot_number',\n",
       "  'rx_processing_a6/smoothwidth',\n",
       "  'rx_processing_a6/smoothwidth_zcross',\n",
       "  'rx_processing_a6/stddev',\n",
       "  'rx_processing_a6/toploc',\n",
       "  'rx_processing_a6/toploc_miss',\n",
       "  'rx_processing_a6/zcross',\n",
       "  'rx_processing_a6/zcross0',\n",
       "  'rx_processing_a6/zcross_amp',\n",
       "  'rx_processing_a6/zcross_localenergy',\n",
       "  'selected_algorithm',\n",
       "  'selected_mode',\n",
       "  'sensitivity',\n",
       "  'shot_number',\n",
       "  'solar_azimuth',\n",
       "  'solar_elevation',\n",
       "  'surface_flag']}"
      ]
     },
     "execution_count": 4,
     "metadata": {},
     "output_type": "execute_result"
    }
   ],
   "source": [
    "getLayer('',[h5_2A])"
   ]
  },
  {
   "cell_type": "markdown",
   "metadata": {},
   "source": [
    "To see if a specific layer exists or not:"
   ]
  },
  {
   "cell_type": "code",
   "execution_count": 5,
   "metadata": {
    "scrolled": false
   },
   "outputs": [],
   "source": [
    "idsbox=idsBox(h5_2A,'lat_lowestmode','lon_lowestmode',bbox)"
   ]
  },
  {
   "cell_type": "markdown",
   "metadata": {},
   "source": [
    "**For example:** With the Box defined the different layers can be extracted from product GEDI02_A for the area of interest. "
   ]
  },
  {
   "cell_type": "code",
   "execution_count": 6,
   "metadata": {
    "scrolled": true
   },
   "outputs": [
    {
     "data": {
      "text/html": [
       "<div>\n",
       "<style scoped>\n",
       "    .dataframe tbody tr th:only-of-type {\n",
       "        vertical-align: middle;\n",
       "    }\n",
       "\n",
       "    .dataframe tbody tr th {\n",
       "        vertical-align: top;\n",
       "    }\n",
       "\n",
       "    .dataframe thead th {\n",
       "        text-align: right;\n",
       "    }\n",
       "</style>\n",
       "<table border=\"1\" class=\"dataframe\">\n",
       "  <thead>\n",
       "    <tr style=\"text-align: right;\">\n",
       "      <th></th>\n",
       "      <th>shot_number</th>\n",
       "      <th>lat_lowestmode</th>\n",
       "      <th>lon_lowestmode</th>\n",
       "      <th>sensitivity</th>\n",
       "      <th>quality_flag</th>\n",
       "      <th>rh</th>\n",
       "    </tr>\n",
       "  </thead>\n",
       "  <tbody>\n",
       "    <tr>\n",
       "      <th>0</th>\n",
       "      <td>19640016800109452</td>\n",
       "      <td>-13.730080</td>\n",
       "      <td>-44.150036</td>\n",
       "      <td>0.946068</td>\n",
       "      <td>1</td>\n",
       "      <td>[-5.090000152587891, -4.599999904632568, -4.23...</td>\n",
       "    </tr>\n",
       "    <tr>\n",
       "      <th>1</th>\n",
       "      <td>19640017000109453</td>\n",
       "      <td>-13.729666</td>\n",
       "      <td>-44.149719</td>\n",
       "      <td>0.942039</td>\n",
       "      <td>1</td>\n",
       "      <td>[-5.800000190734863, -5.28000020980835, -4.900...</td>\n",
       "    </tr>\n",
       "    <tr>\n",
       "      <th>2</th>\n",
       "      <td>19640017200109454</td>\n",
       "      <td>-13.729252</td>\n",
       "      <td>-44.149403</td>\n",
       "      <td>0.937416</td>\n",
       "      <td>1</td>\n",
       "      <td>[-4.75, -4.300000190734863, -3.930000066757202...</td>\n",
       "    </tr>\n",
       "    <tr>\n",
       "      <th>3</th>\n",
       "      <td>19640017400109455</td>\n",
       "      <td>-13.728838</td>\n",
       "      <td>-44.149086</td>\n",
       "      <td>0.941184</td>\n",
       "      <td>1</td>\n",
       "      <td>[-5.199999809265137, -4.710000038146973, -4.30...</td>\n",
       "    </tr>\n",
       "    <tr>\n",
       "      <th>4</th>\n",
       "      <td>19640017600109456</td>\n",
       "      <td>-13.728425</td>\n",
       "      <td>-44.148770</td>\n",
       "      <td>0.932089</td>\n",
       "      <td>1</td>\n",
       "      <td>[-5.050000190734863, -4.599999904632568, -4.26...</td>\n",
       "    </tr>\n",
       "  </tbody>\n",
       "</table>\n",
       "</div>"
      ],
      "text/plain": [
       "         shot_number  lat_lowestmode  lon_lowestmode  sensitivity  \\\n",
       "0  19640016800109452      -13.730080      -44.150036     0.946068   \n",
       "1  19640017000109453      -13.729666      -44.149719     0.942039   \n",
       "2  19640017200109454      -13.729252      -44.149403     0.937416   \n",
       "3  19640017400109455      -13.728838      -44.149086     0.941184   \n",
       "4  19640017600109456      -13.728425      -44.148770     0.932089   \n",
       "\n",
       "   quality_flag                                                 rh  \n",
       "0             1  [-5.090000152587891, -4.599999904632568, -4.23...  \n",
       "1             1  [-5.800000190734863, -5.28000020980835, -4.900...  \n",
       "2             1  [-4.75, -4.300000190734863, -3.930000066757202...  \n",
       "3             1  [-5.199999809265137, -4.710000038146973, -4.30...  \n",
       "4             1  [-5.050000190734863, -4.599999904632568, -4.26...  "
      ]
     },
     "execution_count": 6,
     "metadata": {},
     "output_type": "execute_result"
    }
   ],
   "source": [
    "layers=['shot_number','lat_lowestmode','lon_lowestmode', 'sensitivity','quality_flag','rh']\n",
    "dfbox=generateBoxDataFrame([h5_2A],layers,idsbox)\n",
    "dfbox.head()"
   ]
  },
  {
   "cell_type": "markdown",
   "metadata": {},
   "source": [
    "The following example calculates the maximum layer rh and is added in the dataframe. Other variables (e.g median, mean, std, pcr75, pcr90) can also be calculated for layers of interest."
   ]
  },
  {
   "cell_type": "code",
   "execution_count": 7,
   "metadata": {
    "scrolled": true
   },
   "outputs": [
    {
     "data": {
      "text/html": [
       "<div>\n",
       "<style scoped>\n",
       "    .dataframe tbody tr th:only-of-type {\n",
       "        vertical-align: middle;\n",
       "    }\n",
       "\n",
       "    .dataframe tbody tr th {\n",
       "        vertical-align: top;\n",
       "    }\n",
       "\n",
       "    .dataframe thead th {\n",
       "        text-align: right;\n",
       "    }\n",
       "</style>\n",
       "<table border=\"1\" class=\"dataframe\">\n",
       "  <thead>\n",
       "    <tr style=\"text-align: right;\">\n",
       "      <th></th>\n",
       "      <th>shot_number</th>\n",
       "      <th>lat_lowestmode</th>\n",
       "      <th>lon_lowestmode</th>\n",
       "      <th>sensitivity</th>\n",
       "      <th>quality_flag</th>\n",
       "      <th>rh</th>\n",
       "      <th>max_rh</th>\n",
       "    </tr>\n",
       "  </thead>\n",
       "  <tbody>\n",
       "    <tr>\n",
       "      <th>0</th>\n",
       "      <td>19640016800109452</td>\n",
       "      <td>-13.730080</td>\n",
       "      <td>-44.150036</td>\n",
       "      <td>0.946068</td>\n",
       "      <td>1</td>\n",
       "      <td>[-5.090000152587891, -4.599999904632568, -4.23...</td>\n",
       "      <td>4.94</td>\n",
       "    </tr>\n",
       "    <tr>\n",
       "      <th>1</th>\n",
       "      <td>19640017000109453</td>\n",
       "      <td>-13.729666</td>\n",
       "      <td>-44.149719</td>\n",
       "      <td>0.942039</td>\n",
       "      <td>1</td>\n",
       "      <td>[-5.800000190734863, -5.28000020980835, -4.900...</td>\n",
       "      <td>4.15</td>\n",
       "    </tr>\n",
       "    <tr>\n",
       "      <th>2</th>\n",
       "      <td>19640017200109454</td>\n",
       "      <td>-13.729252</td>\n",
       "      <td>-44.149403</td>\n",
       "      <td>0.937416</td>\n",
       "      <td>1</td>\n",
       "      <td>[-4.75, -4.300000190734863, -3.930000066757202...</td>\n",
       "      <td>4.79</td>\n",
       "    </tr>\n",
       "    <tr>\n",
       "      <th>3</th>\n",
       "      <td>19640017400109455</td>\n",
       "      <td>-13.728838</td>\n",
       "      <td>-44.149086</td>\n",
       "      <td>0.941184</td>\n",
       "      <td>1</td>\n",
       "      <td>[-5.199999809265137, -4.710000038146973, -4.30...</td>\n",
       "      <td>4.60</td>\n",
       "    </tr>\n",
       "    <tr>\n",
       "      <th>4</th>\n",
       "      <td>19640017600109456</td>\n",
       "      <td>-13.728425</td>\n",
       "      <td>-44.148770</td>\n",
       "      <td>0.932089</td>\n",
       "      <td>1</td>\n",
       "      <td>[-5.050000190734863, -4.599999904632568, -4.26...</td>\n",
       "      <td>4.75</td>\n",
       "    </tr>\n",
       "  </tbody>\n",
       "</table>\n",
       "</div>"
      ],
      "text/plain": [
       "         shot_number  lat_lowestmode  lon_lowestmode  sensitivity  \\\n",
       "0  19640016800109452      -13.730080      -44.150036     0.946068   \n",
       "1  19640017000109453      -13.729666      -44.149719     0.942039   \n",
       "2  19640017200109454      -13.729252      -44.149403     0.937416   \n",
       "3  19640017400109455      -13.728838      -44.149086     0.941184   \n",
       "4  19640017600109456      -13.728425      -44.148770     0.932089   \n",
       "\n",
       "   quality_flag                                                 rh  max_rh  \n",
       "0             1  [-5.090000152587891, -4.599999904632568, -4.23...    4.94  \n",
       "1             1  [-5.800000190734863, -5.28000020980835, -4.900...    4.15  \n",
       "2             1  [-4.75, -4.300000190734863, -3.930000066757202...    4.79  \n",
       "3             1  [-5.199999809265137, -4.710000038146973, -4.30...    4.60  \n",
       "4             1  [-5.050000190734863, -4.599999904632568, -4.26...    4.75  "
      ]
     },
     "execution_count": 7,
     "metadata": {},
     "output_type": "execute_result"
    }
   ],
   "source": [
    "dfbox['max_rh'] = [np.max(i) for i in dfbox['rh']]\n",
    "dfbox.head()"
   ]
  },
  {
   "cell_type": "markdown",
   "metadata": {},
   "source": [
    "Now that the data frame is created, export files in the different formats (csv, shp, tif) based on GDAL. These may all be opened in other programs (e.g. Excel, QGIS).\n",
    "\n",
    "#### Dataframe to CSV:"
   ]
  },
  {
   "cell_type": "code",
   "execution_count": 8,
   "metadata": {
    "scrolled": false
   },
   "outputs": [
    {
     "name": "stdout",
     "output_type": "stream",
     "text": [
      "Successfully created\n"
     ]
    },
    {
     "data": {
      "text/plain": [
       "'DataFrame already converted'"
      ]
     },
     "execution_count": 8,
     "metadata": {},
     "output_type": "execute_result"
    }
   ],
   "source": [
    "df2csv(dfbox,filename='Box_GEDI02_A',outdir='data/formats/')"
   ]
  },
  {
   "cell_type": "markdown",
   "metadata": {},
   "source": [
    "#### CSV to SHP:"
   ]
  },
  {
   "cell_type": "code",
   "execution_count": 9,
   "metadata": {
    "scrolled": false
   },
   "outputs": [
    {
     "name": "stdout",
     "output_type": "stream",
     "text": [
      "Successfully created\n"
     ]
    },
    {
     "data": {
      "text/plain": [
       "'file already converted'"
      ]
     },
     "execution_count": 9,
     "metadata": {},
     "output_type": "execute_result"
    }
   ],
   "source": [
    "csv2shp('data/formats/Box_GEDI02_A.csv',filename='Box_GEDI02_A',outdir='data/formats/')"
   ]
  },
  {
   "cell_type": "markdown",
   "metadata": {},
   "source": [
    "#### SHP to TIF:\n",
    "\n",
    "Note: Given that GEDI is 25m the pixel used must be of 0.00025. Float is recommended. Define the variable of interest for band(1) (e.g. height in centimeters or meters)."
   ]
  },
  {
   "cell_type": "code",
   "execution_count": 10,
   "metadata": {
    "scrolled": false
   },
   "outputs": [
    {
     "name": "stdout",
     "output_type": "stream",
     "text": [
      "Successfully created\n"
     ]
    },
    {
     "data": {
      "text/plain": [
       "'file already converted'"
      ]
     },
     "execution_count": 10,
     "metadata": {},
     "output_type": "execute_result"
    }
   ],
   "source": [
    "shp2tiff('data/formats/Box_GEDI02_A.shp', layername='max_rh', \n",
    "        pixelsize='0.00025', \n",
    "        nodata='225', \n",
    "        ot='float',\n",
    "        filename='Box_GEDI02_A',\n",
    "        outdir='data/formats/')"
   ]
  },
  {
   "cell_type": "markdown",
   "metadata": {},
   "source": [
    "# Visualization and Analysis\n",
    "\n",
    "Now that the file has been created as shp or tif, visualization and analysis are possible.\n",
    "\n",
    "### Please note you will need these packages:\n"
   ]
  },
  {
   "cell_type": "code",
   "execution_count": 11,
   "metadata": {
    "scrolled": false
   },
   "outputs": [],
   "source": [
    "import geopandas as gpd\n",
    "from mpl_toolkits.mplot3d import Axes3D\n",
    "import plotly.express as px\n",
    "import folium"
   ]
  },
  {
   "cell_type": "markdown",
   "metadata": {},
   "source": [
    "The following data analyses are from  Democratic Republic of the Congo where various variables were calculated that pertain to GEDI product 2A. Variables tcc, tch75, tch90, tch95, tch100, are the percentile result from layer rh."
   ]
  },
  {
   "cell_type": "markdown",
   "metadata": {},
   "source": [
    "#### To visualize in shp format and an attributes table"
   ]
  },
  {
   "cell_type": "code",
   "execution_count": 12,
   "metadata": {
    "scrolled": false
   },
   "outputs": [
    {
     "data": {
      "text/html": [
       "<div>\n",
       "<style scoped>\n",
       "    .dataframe tbody tr th:only-of-type {\n",
       "        vertical-align: middle;\n",
       "    }\n",
       "\n",
       "    .dataframe tbody tr th {\n",
       "        vertical-align: top;\n",
       "    }\n",
       "\n",
       "    .dataframe thead th {\n",
       "        text-align: right;\n",
       "    }\n",
       "</style>\n",
       "<table border=\"1\" class=\"dataframe\">\n",
       "  <thead>\n",
       "    <tr style=\"text-align: right;\">\n",
       "      <th></th>\n",
       "      <th>lat</th>\n",
       "      <th>lon</th>\n",
       "      <th>year</th>\n",
       "      <th>day</th>\n",
       "      <th>tcc</th>\n",
       "      <th>tch75</th>\n",
       "      <th>tch90</th>\n",
       "      <th>tch95</th>\n",
       "      <th>tch100</th>\n",
       "      <th>geometry</th>\n",
       "    </tr>\n",
       "  </thead>\n",
       "  <tbody>\n",
       "    <tr>\n",
       "      <th>0</th>\n",
       "      <td>-4.000107</td>\n",
       "      <td>20.827982</td>\n",
       "      <td>2019.0</td>\n",
       "      <td>140.0</td>\n",
       "      <td>32.0</td>\n",
       "      <td>11.0</td>\n",
       "      <td>14.0</td>\n",
       "      <td>15.0</td>\n",
       "      <td>18.0</td>\n",
       "      <td>POINT (20.82798 -4.00011)</td>\n",
       "    </tr>\n",
       "    <tr>\n",
       "      <th>1</th>\n",
       "      <td>-4.001792</td>\n",
       "      <td>20.829191</td>\n",
       "      <td>2019.0</td>\n",
       "      <td>140.0</td>\n",
       "      <td>63.0</td>\n",
       "      <td>13.0</td>\n",
       "      <td>23.0</td>\n",
       "      <td>26.0</td>\n",
       "      <td>30.0</td>\n",
       "      <td>POINT (20.82919 -4.00179)</td>\n",
       "    </tr>\n",
       "    <tr>\n",
       "      <th>2</th>\n",
       "      <td>-4.003045</td>\n",
       "      <td>20.830092</td>\n",
       "      <td>2019.0</td>\n",
       "      <td>140.0</td>\n",
       "      <td>86.0</td>\n",
       "      <td>11.0</td>\n",
       "      <td>13.0</td>\n",
       "      <td>14.0</td>\n",
       "      <td>16.0</td>\n",
       "      <td>POINT (20.83009 -4.00304)</td>\n",
       "    </tr>\n",
       "    <tr>\n",
       "      <th>3</th>\n",
       "      <td>-4.003466</td>\n",
       "      <td>20.830394</td>\n",
       "      <td>2019.0</td>\n",
       "      <td>140.0</td>\n",
       "      <td>81.0</td>\n",
       "      <td>12.0</td>\n",
       "      <td>18.0</td>\n",
       "      <td>19.0</td>\n",
       "      <td>22.0</td>\n",
       "      <td>POINT (20.83039 -4.00347)</td>\n",
       "    </tr>\n",
       "    <tr>\n",
       "      <th>4</th>\n",
       "      <td>-4.003889</td>\n",
       "      <td>20.830697</td>\n",
       "      <td>2019.0</td>\n",
       "      <td>140.0</td>\n",
       "      <td>35.0</td>\n",
       "      <td>17.0</td>\n",
       "      <td>28.0</td>\n",
       "      <td>29.0</td>\n",
       "      <td>32.0</td>\n",
       "      <td>POINT (20.83070 -4.00389)</td>\n",
       "    </tr>\n",
       "  </tbody>\n",
       "</table>\n",
       "</div>"
      ],
      "text/plain": [
       "        lat        lon    year    day   tcc  tch75  tch90  tch95  tch100  \\\n",
       "0 -4.000107  20.827982  2019.0  140.0  32.0   11.0   14.0   15.0    18.0   \n",
       "1 -4.001792  20.829191  2019.0  140.0  63.0   13.0   23.0   26.0    30.0   \n",
       "2 -4.003045  20.830092  2019.0  140.0  86.0   11.0   13.0   14.0    16.0   \n",
       "3 -4.003466  20.830394  2019.0  140.0  81.0   12.0   18.0   19.0    22.0   \n",
       "4 -4.003889  20.830697  2019.0  140.0  35.0   17.0   28.0   29.0    32.0   \n",
       "\n",
       "                    geometry  \n",
       "0  POINT (20.82798 -4.00011)  \n",
       "1  POINT (20.82919 -4.00179)  \n",
       "2  POINT (20.83009 -4.00304)  \n",
       "3  POINT (20.83039 -4.00347)  \n",
       "4  POINT (20.83070 -4.00389)  "
      ]
     },
     "execution_count": 12,
     "metadata": {},
     "output_type": "execute_result"
    },
    {
     "data": {
      "image/png": "[encoded data removed]",
      "text/plain": [
       "<Figure size 360x360 with 1 Axes>"
      ]
     },
     "metadata": {
      "needs_background": "light"
     },
     "output_type": "display_data"
    }
   ],
   "source": [
    "GEDI_shp = gpd.read_file('data/formats/DRC.shp')\n",
    "plotSHP(GEDI_shp,'tch75',colormap='Spectral_r')\n",
    "GEDI_shp.head()"
   ]
  },
  {
   "cell_type": "markdown",
   "metadata": {},
   "source": [
    "#### 3D Graph of Latitude, Longitude, and Height(tch75) of Congo"
   ]
  },
  {
   "cell_type": "code",
   "execution_count": 13,
   "metadata": {
    "scrolled": false
   },
   "outputs": [
    {
     "data": {
      "text/plain": [
       "<matplotlib.colorbar.Colorbar at 0x2af8b3b5cd90>"
      ]
     },
     "execution_count": 13,
     "metadata": {},
     "output_type": "execute_result"
    },
    {
     "data": {
      "image/png": "[encoded data removed]",
      "text/plain": [
       "<Figure size 1080x1080 with 2 Axes>"
      ]
     },
     "metadata": {
      "needs_background": "light"
     },
     "output_type": "display_data"
    }
   ],
   "source": [
    "fig1=plt.figure(figsize=(15,15))\n",
    "ax=fig1.add_subplot(211,projection='3d')\n",
    "data = [GEDI_shp['lat'], GEDI_shp['lon'], GEDI_shp['tch75']]\n",
    "AX = ax.scatter(*data, c=data[2], vmin=0, vmax=30, cmap='BuGn')\n",
    "ax.view_init(15,30)\n",
    "plt.colorbar(AX)"
   ]
  },
  {
   "cell_type": "markdown",
   "metadata": {},
   "source": [
    "#### To visualize a Height (tch75) Histogram."
   ]
  },
  {
   "cell_type": "code",
   "execution_count": 15,
   "metadata": {
    "scrolled": false
   },
   "outputs": [
    {
     "name": "stdout",
     "output_type": "stream",
     "text": [
      "255.0\n"
     ]
    },
    {
     "data": {
      "image/png": "[encoded data removed]",
      "text/plain": [
       "<Figure size 360x360 with 1 Axes>"
      ]
     },
     "metadata": {
      "needs_background": "light"
     },
     "output_type": "display_data"
    }
   ],
   "source": [
    "GEDI_raster = 'data/formats/tch75_DRC.tif'\n",
    "histRaster(GEDI_raster,bins=40)"
   ]
  }
 ],
 "metadata": {
  "kernelspec": {
   "display_name": "Python 3",
   "language": "python",
   "name": "python3"
  },
  "language_info": {
   "codemirror_mode": {
    "name": "ipython",
    "version": 3
   },
   "file_extension": ".py",
   "mimetype": "text/x-python",
   "name": "python",
   "nbconvert_exporter": "python",
   "pygments_lexer": "ipython3",
   "version": "3.6.10"
  }
 },
 "nbformat": 4,
 "nbformat_minor": 4
}
